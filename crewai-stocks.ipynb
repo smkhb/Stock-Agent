{
 "cells": [
  {
   "cell_type": "code",
   "execution_count": null,
   "metadata": {},
   "outputs": [],
   "source": [
    "#Instalação das bibliotecas necessárias\n",
    "!pip install python-dotenv #Biblioteca para manipulação de variáveis de ambiente\n",
    "\n",
    "!pip install yfinance==0.2.41\n",
    "!pip install crewai==0.28.8\n",
    "!pip install 'crewai[tools]'\n",
    "!pip install langchain==0.1.20\n",
    "!pip install langchain-openai==0.1.7\n",
    "!pip install langchain-community==0.0.38\n",
    "!pip install duckduckgo-search==5.3.0"
   ]
  },
  {
   "cell_type": "code",
   "execution_count": null,
   "metadata": {},
   "outputs": [],
   "source": [
    "import json \n",
    "import os\n",
    "from datetime import datetime\n",
    "\n",
    "from IPython.display import Markdown\n",
    "\n",
    "import yfinance as yf\n",
    "\n",
    "from crewai import Agent, Task, Crew, Process\n",
    "\n",
    "from langchain.tools import Tool\n",
    "from langchain_openai import ChatOpenAI\n",
    "from langchain_community.tools import DuckDuckGoSearchResults\n",
    "\n",
    "from dotenv import load_dotenv"
   ]
  },
  {
   "cell_type": "code",
   "execution_count": null,
   "metadata": {},
   "outputs": [],
   "source": [
    "# Função para coletar os dados do Yahoo Finance\n",
    "def fectch_stock_history_price(ticket):\n",
    "    stock = yf.download(ticket, start=\"2020-01-01\", end=\"2020-12-31\")\n",
    "    return stock\n",
    "\n",
    "# Criação da ferramenta para coletar os dados do Yahoo Finance\n",
    "yahoo_finance_tool = Tool(\n",
    "    name = \"Yahoo Finance Tool\",\n",
    "    description = \"This tool fetches stocks prices for {ticket} from some year about a specific stock from Yahoo Finance API.\",\n",
    "    func= lambda ticket: fectch_stock_history_price(ticket)\n",
    ")"
   ]
  },
  {
   "cell_type": "code",
   "execution_count": null,
   "metadata": {},
   "outputs": [],
   "source": [
    "# Criação do modelo de LLM usando OpenAI\n",
    "load_dotenv() # Carrega as variáveis de ambiente\n",
    "os.environ['OPENAI_API_KEY'] = os.getenv('OPENAI_API_KEY')\n",
    "llm = ChatOpenAI(model=\"gpt-3.5-turbo\")"
   ]
  },
  {
   "cell_type": "code",
   "execution_count": null,
   "metadata": {},
   "outputs": [],
   "source": [
    "# Criação do Agente que irá analisar os preços das ações\n",
    "stockPriceAnalyst = Agent(\n",
    "  role  = \"Senior Stock Price Analyst\",\n",
    "  goal = \"Find the {ticket} stock prices and analyses future prices and trends.\",\n",
    "  backstory = \"You're a highly experienced stock price analyst with a deep understanding of the stock market and good prediction skills about this market.\",\n",
    "  verbose = True,\n",
    "  llm = llm,\n",
    "  max_iter = 5,\n",
    "  memory = True,\n",
    "  Tools = [yahoo_finance_tool],\n",
    "  allow_delegation = False\n",
    ")"
   ]
  },
  {
   "cell_type": "code",
   "execution_count": null,
   "metadata": {},
   "outputs": [],
   "source": [
    "# Criação da tarefa para analisar os preços das ações\n",
    "getStockPrice = Task(\n",
    "  description = \"Analyse the stock {ticket} price history, create a trend analyses of up, down or sideways and predict future prices and trends.\",\n",
    "  expected_output = \"\"\"Specify the current trend of the stock price and predict the future price and trend.\n",
    "  eg. stock= 'APPL, price UP'\n",
    "  \"\"\",\n",
    "  agent = stockPriceAnalyst,\n",
    ")"
   ]
  },
  {
   "cell_type": "code",
   "execution_count": null,
   "metadata": {},
   "outputs": [],
   "source": [
    "# Importação da ferramenta para coletar os resultados da busca no DuckDuckGo, ela já existe por isso não é necessário a criação\n",
    "search_tool = DuckDuckGoSearchResults(backend='news', num_results=10) "
   ]
  },
  {
   "cell_type": "code",
   "execution_count": null,
   "metadata": {},
   "outputs": [],
   "source": [
    "# Criação do Agente que irá analisar as notícias sobre as ações\n",
    "newsAnalyst = Agent(\n",
    "  role  = \"Stock News Analyst\",\n",
    "  goal = \"In a Summary find the latest news about {ticket} stock and analyse how it will impact the stock price. Specify if it will go up, down or sideways. For each request stock asset, specify a number between 0 and 100, where 0 is extreme fear and 100 is extreme greed.\",\n",
    "  backstory = \"\"\"You're a highly experienced stock news analyst with a deep understanding of the stock market and good prediction skills about this market. \n",
    "  You have access to the latest news and information about the stock market and you can analyse how it will impact the stock price.\n",
    "  You're also master level analysts in the tradicional markets and have deep understanding of human psychology and how it impacts the stock market.\n",
    "  You understand news, theirs tittles and information, but you look at those with a health dose of skepticism and you know that not all news are true or have a real impact on the stock market.\n",
    "  You also consider the source of the news and the credibility of the source.\n",
    "  \"\"\",\n",
    "  verbose = True,\n",
    "  llm = llm,\n",
    "  max_iter = 10,\n",
    "  memory = True,\n",
    "  Tools = [search_tool],\n",
    "  allow_delegation = False\n",
    ")"
   ]
  },
  {
   "cell_type": "code",
   "execution_count": null,
   "metadata": {},
   "outputs": [],
   "source": [
    "# Criação da tarefa para analisar as notícias sobre as ações\n",
    "getNews = Task(\n",
    "  description = f\"\"\"Take the stock and always include BTC to it (if not request).\n",
    "  Use the search tool to search each one individually.\n",
    "  The current date is {datetime.now()}.\n",
    "  compose the results into a helpfull report\n",
    "  \"\"\",\n",
    "  expected_output = \"\"\"A summary of the overall market and one sentence summary for each requested asset.\n",
    "  Include a fear/greed score for each asset based on the news. Use the format:\n",
    "  <STOCK ASSET>\n",
    "  <SUMMARY BASED ON NEWS>\n",
    "  <TREND PREDICTION>\n",
    "  <FEAR/GREED SCORE>\n",
    "  \"\"\",\n",
    "  agent = newsAnalyst\n",
    ")"
   ]
  },
  {
   "cell_type": "code",
   "execution_count": null,
   "metadata": {},
   "outputs": [],
   "source": [
    "# Criação do agente que analisa os dados das ações\n",
    "stockAnalystWrite = Agent(\n",
    "  role = \"Senior Stock Analyst Writer\",\n",
    "  goal = \"Analyze the trends price and news to write an insighfull compelling and informative 3 paragraph long newsletter based on the stock report and price trend.\",\n",
    "  backstory = \"\"\"You're widely accepted as the best stock analyst in the market. You understand complex concepts and create compelling sotires and narratives that resonate with wider audiences\n",
    "  \n",
    "  You understand macro factors and combine multiple theories - eg. cycle theory and fundamental analyses.\n",
    "  You're abe to hold multiple opinions when analyzing anything.\n",
    "  \"\"\",\n",
    "  verbose = True,\n",
    "  llm= llm,\n",
    "  max_iter = 5,\n",
    "  memory = True,\n",
    "  allow_delegation = True\n",
    ")"
   ]
  },
  {
   "cell_type": "code",
   "execution_count": null,
   "metadata": {},
   "outputs": [],
   "source": [
    "# Criação da tarefa Principal\n",
    "writeAnalyses = Task(\n",
    "  description = \"\"\"Use the stock price trend and the stock news report to create an analyses and write the newsletter about the {ticket} company that is brief and highlights the most important points.\n",
    "  Focus on the stock price trend, news and fear/greed score. what are the near future considerations?\n",
    "  Include the previous analyses of stock trend and news summary.\n",
    "  \"\"\",\n",
    "  expected_output = \"\"\"An eloquent 3 paragraphs newsletter fornated as markdown in an easy readable manner. It should contain:\n",
    "  \n",
    "  - 3 Bullets executive summary\n",
    "  - Introduction - set the overall picture and spike up the interest\n",
    "  - main part provides the meat of the analysis including the news summary and fear/gred scores\n",
    "  -summary - key facts and concrete future trend prediction - up, down or sideways.\n",
    "  \"\"\",\n",
    "  agent = stockAnalystWrite,\n",
    "  context = [getStockPrice, getNews]\n",
    ")"
   ]
  },
  {
   "cell_type": "code",
   "execution_count": null,
   "metadata": {},
   "outputs": [],
   "source": [
    "crew = Crew(\n",
    "  agents = [stockPriceAnalyst, newsAnalyst, stockAnalystWrite],\n",
    "  tasks = [getStockPrice, getNews, writeAnalyses],\n",
    "  verbose = True,\n",
    "  process = Process.hierarchical,\n",
    "  full_output = True,\n",
    "  share_crew = False,\n",
    "  manager_llm = llm,\n",
    "  max_iter = 15\n",
    "  )"
   ]
  },
  {
   "cell_type": "code",
   "execution_count": null,
   "metadata": {},
   "outputs": [],
   "source": [
    "results = crew.kickoff(inputs={\"ticket\": \"AAPL\"})"
   ]
  },
  {
   "cell_type": "code",
   "execution_count": null,
   "metadata": {},
   "outputs": [],
   "source": [
    "list(results.keys())"
   ]
  },
  {
   "cell_type": "code",
   "execution_count": null,
   "metadata": {},
   "outputs": [],
   "source": [
    "Markdown(results['final_output'])"
   ]
  }
 ],
 "metadata": {
  "kernelspec": {
   "display_name": ".venv",
   "language": "python",
   "name": "python3"
  },
  "language_info": {
   "codemirror_mode": {
    "name": "ipython",
    "version": 3
   },
   "file_extension": ".py",
   "mimetype": "text/x-python",
   "name": "python",
   "nbconvert_exporter": "python",
   "pygments_lexer": "ipython3",
   "version": "3.11.8"
  }
 },
 "nbformat": 4,
 "nbformat_minor": 2
}
