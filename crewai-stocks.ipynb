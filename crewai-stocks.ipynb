{
 "cells": [
  {
   "cell_type": "code",
   "execution_count": null,
   "metadata": {},
   "outputs": [],
   "source": [
    "#Instalação das bibliotecas necessárias\n",
    "!pip install yfinance #Biblioteca para coleta de dados financeiros\n",
    "!pip install crewai\n",
    "!pip install 'crewai[tools]'\n",
    "!pip install langchain #Biblioteca para processamento de linguagem natural"
   ]
  },
  {
   "cell_type": "code",
   "execution_count": 3,
   "metadata": {},
   "outputs": [],
   "source": [
    "# Importação das bibliotecas necessárias\n",
    "import json\n",
    "import os\n",
    "from datetime import datetime\n",
    "\n",
    "import yfinance as yf\n",
    "from crewai import Agent, Task\n",
    "from langchain.tools import Tool"
   ]
  },
  {
   "cell_type": "code",
   "execution_count": 7,
   "metadata": {},
   "outputs": [],
   "source": [
    "# Função para coletar os dados do Yahoo Finance\n",
    "def fectch_stock_history_price(ticket):\n",
    "    stock = yf.download(ticket, start=\"2020-01-01\", end=\"2020-12-31\")\n",
    "    return stock\n",
    "\n",
    "# Criação da ferramenta para coletar os dados do Yahoo Finance\n",
    "yahoo_finance_tool = Tool(\n",
    "    name = \"Yahoo Finance Tool\",\n",
    "    description = \"This tool fetches stocks prices for {ticket} from some year about a specific stock from Yahoo Finance API.\",\n",
    "    func= lambda ticket: fectch_stock_history_price(ticket)\n",
    ")"
   ]
  },
  {
   "cell_type": "code",
   "execution_count": 9,
   "metadata": {},
   "outputs": [
    {
     "name": "stderr",
     "output_type": "stream",
     "text": [
      "[*********************100%***********************]  1 of 1 completed\n"
     ]
    }
   ],
   "source": [
    "response = yahoo_finance_tool.run(\"AAPL\")"
   ]
  },
  {
   "cell_type": "code",
   "execution_count": 10,
   "metadata": {},
   "outputs": [
    {
     "name": "stdout",
     "output_type": "stream",
     "text": [
      "                  Open        High  ...   Adj Close     Volume\n",
      "Date                                ...                       \n",
      "2020-01-02   74.059998   75.150002  ...   72.876114  135480400\n",
      "2020-01-03   74.287498   75.144997  ...   72.167595  146322800\n",
      "2020-01-06   73.447502   74.989998  ...   72.742645  118387200\n",
      "2020-01-07   74.959999   75.224998  ...   72.400543  108872000\n",
      "2020-01-08   74.290001   76.110001  ...   73.565201  132079200\n",
      "...                ...         ...  ...         ...        ...\n",
      "2020-12-23  132.160004  132.429993  ...  128.200821   88223700\n",
      "2020-12-24  131.320007  133.460007  ...  129.189499   54930100\n",
      "2020-12-28  133.990005  137.339996  ...  133.810074  124486200\n",
      "2020-12-29  138.050003  138.789993  ...  132.028397  121047300\n",
      "2020-12-30  135.580002  135.990005  ...  130.902634   96452100\n",
      "\n",
      "[252 rows x 6 columns]\n"
     ]
    }
   ],
   "source": [
    "print(response)"
   ]
  }
 ],
 "metadata": {
  "kernelspec": {
   "display_name": ".venv",
   "language": "python",
   "name": "python3"
  },
  "language_info": {
   "codemirror_mode": {
    "name": "ipython",
    "version": 3
   },
   "file_extension": ".py",
   "mimetype": "text/x-python",
   "name": "python",
   "nbconvert_exporter": "python",
   "pygments_lexer": "ipython3",
   "version": "3.12.4"
  }
 },
 "nbformat": 4,
 "nbformat_minor": 2
}
