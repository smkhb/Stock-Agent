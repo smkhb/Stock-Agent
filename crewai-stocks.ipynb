{
 "cells": [
  {
   "cell_type": "code",
   "execution_count": null,
   "metadata": {},
   "outputs": [],
   "source": [
    "#Instalação das bibliotecas necessárias\n",
    "!pip install yfinance #Biblioteca para coleta de dados financeiros\n",
    "!pip install crewai\n",
    "!pip install 'crewai[tools]'\n",
    "!pip install langchain #Biblioteca para processamento de linguagem natural\n",
    "!pip install langchain-openai\n",
    "!pip install python-dotenv #Biblioteca para manipulação de variáveis de ambiente"
   ]
  },
  {
   "cell_type": "code",
   "execution_count": 26,
   "metadata": {},
   "outputs": [],
   "source": [
    "# Importação das bibliotecas necessárias\n",
    "import json\n",
    "import os\n",
    "from datetime import datetime\n",
    "\n",
    "import yfinance as yf\n",
    "from crewai import Agent, Task\n",
    "from langchain.tools import Tool\n",
    "from langchain_openai import ChatOpenAI\n",
    "from dotenv import load_dotenv"
   ]
  },
  {
   "cell_type": "code",
   "execution_count": 19,
   "metadata": {},
   "outputs": [],
   "source": [
    "# Função para coletar os dados do Yahoo Finance\n",
    "def fectch_stock_history_price(ticket):\n",
    "    stock = yf.download(ticket, start=\"2020-01-01\", end=\"2020-12-31\")\n",
    "    return stock\n",
    "\n",
    "# Criação da ferramenta para coletar os dados do Yahoo Finance\n",
    "yahoo_finance_tool = Tool(\n",
    "    name = \"Yahoo Finance Tool\",\n",
    "    description = \"This tool fetches stocks prices for {ticket} from some year about a specific stock from Yahoo Finance API.\",\n",
    "    func= lambda ticket: fectch_stock_history_price(ticket)\n",
    ")"
   ]
  },
  {
   "cell_type": "code",
   "execution_count": 21,
   "metadata": {},
   "outputs": [],
   "source": [
    "# Criando modelo de LLM usando OpenAI\n",
    "load_dotenv() # Carrega as variáveis de ambiente\n",
    "os.environ['OPENAI_API_KEY'] = os.getenv('OPENAI_API_KEY')\n",
    "llm = ChatOpenAI(model=\"gpt-3.5-turbo\")"
   ]
  },
  {
   "cell_type": "code",
   "execution_count": 22,
   "metadata": {},
   "outputs": [],
   "source": [
    "# Criando Agente que irá analisar os preços das ações\n",
    "StockPriceAnalyst = Agent(\n",
    "  role  = \"Senior Stock Price Analyst\",\n",
    "  goal = \"Find the {ticket} stock prices and analyses future prices and trends.\",\n",
    "  backstory = \"You're a highly experienced stock price analyst with a deep understanding of the stock market and good prediction skills about this market.\",\n",
    "  verbose = True,\n",
    "  llm = llm,\n",
    "  max_iter = 5,\n",
    "  memory = True,\n",
    "  Tools = [yahoo_finance_tool]\n",
    ")"
   ]
  },
  {
   "cell_type": "code",
   "execution_count": 28,
   "metadata": {},
   "outputs": [],
   "source": [
    "getStockPrice = Task(\n",
    "  description = \"Analyse the stock {ticket} price history, create a trend analyses of up, down or sideways and predict future prices and trends.\",\n",
    "  expected_output = \"\"\"Specify the current trend of the stock price and predict the future price and trend.\n",
    "  eg. stock= 'APPL, price UP'\n",
    "  \"\"\",\n",
    "  agent = StockPriceAnalyst,\n",
    ")"
   ]
  }
 ],
 "metadata": {
  "kernelspec": {
   "display_name": ".venv",
   "language": "python",
   "name": "python3"
  },
  "language_info": {
   "codemirror_mode": {
    "name": "ipython",
    "version": 3
   },
   "file_extension": ".py",
   "mimetype": "text/x-python",
   "name": "python",
   "nbconvert_exporter": "python",
   "pygments_lexer": "ipython3",
   "version": "3.12.4"
  }
 },
 "nbformat": 4,
 "nbformat_minor": 2
}
